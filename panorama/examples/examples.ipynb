{
 "cells": [
  {
   "cell_type": "code",
   "execution_count": 1,
   "metadata": {
    "ExecuteTime": {
     "end_time": "2019-10-30T23:25:30.518851Z",
     "start_time": "2019-10-30T23:25:30.514095Z"
    }
   },
   "outputs": [],
   "source": [
    "from __future__ import division\n",
    "from __future__ import print_function\n",
    "from __future__ import absolute_import\n",
    "\n",
    "import numpy as np\n",
    "import cv2\n",
    "import random\n",
    "import pathmagic  # noqa\n",
    "from panorama.config_gen import PanoramaConfig\n",
    "from panorama.net.net import PanoramaNet"
   ]
  },
  {
   "cell_type": "markdown",
   "metadata": {},
   "source": [
    "## Setting up Panorama"
   ]
  },
  {
   "cell_type": "code",
   "execution_count": 4,
   "metadata": {
    "ExecuteTime": {
     "end_time": "2019-10-30T23:25:34.770953Z",
     "start_time": "2019-10-30T23:25:34.763614Z"
    }
   },
   "outputs": [],
   "source": [
    "class args:\n",
    "    config_path = '../../trained_models/faces_config.json'\n",
    "    k = 5\n",
    "    model_path = \\\n",
    "        '../../trained_models/panorama_faces_original_loss_weights.h5'\n",
    "    model_qualification_path = \\\n",
    "        '../../trained_models/panorama_faces_original_loss_weights.csv'\n",
    "    target = 0.9\n",
    "    margin = 44\n",
    "    album_path = '../../trained_models/ytf_album.pkl'\n",
    "    "
   ]
  },
  {
   "cell_type": "markdown",
   "metadata": {},
   "source": [
    "### Loading configs"
   ]
  },
  {
   "cell_type": "code",
   "execution_count": 5,
   "metadata": {
    "ExecuteTime": {
     "end_time": "2019-10-30T23:25:34.784403Z",
     "start_time": "2019-10-30T23:25:34.775303Z"
    }
   },
   "outputs": [],
   "source": [
    "config_gen = PanoramaConfig(args.config_path,\n",
    "                                '',\n",
    "                                '',\n",
    "                                '',\n",
    "                                '',\n",
    "                                '',\n",
    "                                args.model_path,\n",
    "                                is_force=False\n",
    "                                )\n",
    "\n",
    "config = config_gen.get_config()\n",
    "random.seed(config['random_seed'])"
   ]
  },
  {
   "cell_type": "markdown",
   "metadata": {},
   "source": [
    "### Initializing PanoramaNet"
   ]
  },
  {
   "cell_type": "code",
   "execution_count": 6,
   "metadata": {
    "ExecuteTime": {
     "end_time": "2019-10-30T23:25:37.423115Z",
     "start_time": "2019-10-30T23:25:34.788975Z"
    }
   },
   "outputs": [
    {
     "name": "stdout",
     "output_type": "stream",
     "text": [
      "Loading weights from ../../trained_models/panorama_faces_original_loss_weights.h5\n"
     ]
    }
   ],
   "source": [
    "panoramaNet = PanoramaNet(config)\n",
    "panoramaNet.load_weights(args.model_path)\n",
    "panoramaNet.set_cas_param(args.model_qualification_path, auto=True)"
   ]
  },
  {
   "cell_type": "markdown",
   "metadata": {},
   "source": [
    "## Verification example\n",
    "Pass in a pair of frame and ask if there are any common identities depicted."
   ]
  },
  {
   "cell_type": "code",
   "execution_count": 7,
   "metadata": {
    "ExecuteTime": {
     "end_time": "2019-10-30T23:25:37.432716Z",
     "start_time": "2019-10-30T23:25:37.427748Z"
    }
   },
   "outputs": [],
   "source": [
    "frame_pair = ('./frame_0000147691.jpg', './frame_0000158434.jpg')"
   ]
  },
  {
   "cell_type": "code",
   "execution_count": 8,
   "metadata": {
    "ExecuteTime": {
     "end_time": "2019-10-30T23:25:37.820761Z",
     "start_time": "2019-10-30T23:25:37.437931Z"
    }
   },
   "outputs": [],
   "source": [
    "result, is_RM, short_circuited_at = panoramaNet.verify(frame_pair)"
   ]
  },
  {
   "cell_type": "code",
   "execution_count": 9,
   "metadata": {
    "ExecuteTime": {
     "end_time": "2019-10-30T23:25:37.830804Z",
     "start_time": "2019-10-30T23:25:37.825537Z"
    }
   },
   "outputs": [
    {
     "name": "stdout",
     "output_type": "stream",
     "text": [
      "True 0\n"
     ]
    }
   ],
   "source": [
    "print(result, short_circuited_at)"
   ]
  },
  {
   "cell_type": "markdown",
   "metadata": {},
   "source": [
    "Result is ```True``` and the query was short-circuited at ```Block_0``` and reference model was not needed."
   ]
  },
  {
   "cell_type": "markdown",
   "metadata": {},
   "source": [
    "## Recognition example\n",
    "Pass in a single frame and an album of known objects to ask for the labels. First load the album into k-nn models. Pass ```voc=None``` meaning setting the vocabulary to be whatever is contained by the album."
   ]
  },
  {
   "cell_type": "code",
   "execution_count": 11,
   "metadata": {
    "ExecuteTime": {
     "end_time": "2019-10-30T23:25:49.938890Z",
     "start_time": "2019-10-30T23:25:43.827976Z"
    }
   },
   "outputs": [
    {
     "name": "stdout",
     "output_type": "stream",
     "text": [
      "No voc given\n"
     ]
    }
   ],
   "source": [
    "neigh, voc = panoramaNet.load_album(args.album_path, voc=None, k=args.k)"
   ]
  },
  {
   "cell_type": "markdown",
   "metadata": {},
   "source": [
    "### Running recognition\n",
    "This is one frame from YoutubeFaces dataset depicting Osama Bin Laden. The album is also polled from the same dataset having a vocabulary size of 1588. This album contains frames from the same video as does our query."
   ]
  },
  {
   "cell_type": "code",
   "execution_count": 12,
   "metadata": {
    "ExecuteTime": {
     "end_time": "2019-10-30T23:25:49.948032Z",
     "start_time": "2019-10-30T23:25:49.943254Z"
    }
   },
   "outputs": [],
   "source": [
    "filename = \"./Osama_bin_Laden_5_5.73.jpg\""
   ]
  },
  {
   "cell_type": "code",
   "execution_count": 13,
   "metadata": {
    "ExecuteTime": {
     "end_time": "2019-10-30T23:25:50.859531Z",
     "start_time": "2019-10-30T23:25:49.953016Z"
    }
   },
   "outputs": [],
   "source": [
    "result = panoramaNet.recognize(filename, neigh, k=args.k)"
   ]
  },
  {
   "cell_type": "markdown",
   "metadata": {},
   "source": [
    "The scores here are the distances between identities. The lower the more confident."
   ]
  },
  {
   "cell_type": "code",
   "execution_count": 14,
   "metadata": {
    "ExecuteTime": {
     "end_time": "2019-10-30T23:25:50.879172Z",
     "start_time": "2019-10-30T23:25:50.864018Z"
    }
   },
   "outputs": [
    {
     "data": {
      "text/plain": [
       "[('Osama_bin_Laden', 0.123167075),\n",
       " ('Patrick_McEnroe', 0.8321626),\n",
       " ('Chris_Cookson', 0.8444098),\n",
       " ('Jack_Osbourne', 0.87500244),\n",
       " ('Terrence_Trammell', 0.90793765)]"
      ]
     },
     "execution_count": 14,
     "metadata": {},
     "output_type": "execute_result"
    }
   ],
   "source": [
    "result"
   ]
  }
 ],
 "metadata": {
  "kernelspec": {
   "display_name": "Python 2",
   "language": "python",
   "name": "python2"
  },
  "language_info": {
   "codemirror_mode": {
    "name": "ipython",
    "version": 2
   },
   "file_extension": ".py",
   "mimetype": "text/x-python",
   "name": "python",
   "nbconvert_exporter": "python",
   "pygments_lexer": "ipython2",
   "version": "2.7.10"
  }
 },
 "nbformat": 4,
 "nbformat_minor": 2
}
